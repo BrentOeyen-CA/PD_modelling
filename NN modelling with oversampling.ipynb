{
 "cells": [
  {
   "cell_type": "markdown",
   "metadata": {},
   "source": [
    "# How to correct probabilities in NNs?,  By Brent Oeyen\n",
    "\n",
    "In case of oversampling or undersampling, the expected values of predicted probabilities by a Neural Network (NN) will no longer reflect the actual likelihood of events.\n",
    "For this reason, it is important to adjust the weights of events in case a bias exists in the training dataset. In the subsequent steps a straight forward example is provided how to eliminate a bias in the training dataset with respect to the probability of an event occurring.\n",
    "## Load libraries"
   ]
  },
  {
   "cell_type": "code",
   "execution_count": 76,
   "metadata": {},
   "outputs": [],
   "source": [
    "import pandas                as     pd\n",
    "import numpy                 as     np\n",
    "from scipy.stats             import norm\n",
    "from tensorflow.keras.models import Sequential\n",
    "from tensorflow.keras.layers import Dense"
   ]
  },
  {
   "cell_type": "markdown",
   "metadata": {},
   "source": [
    "## Create a data set with an explanatory variable x which is correlated with a binary dependent variable y\n",
    "A data set of 40K observations is created from a simulated variable X that follows a standard normal distribution and y binary variable {0, 1} with E[y]=1%."
   ]
  },
  {
   "cell_type": "code",
   "execution_count": 81,
   "metadata": {},
   "outputs": [
    {
     "data": {
      "text/html": [
       "<div>\n",
       "<style scoped>\n",
       "    .dataframe tbody tr th:only-of-type {\n",
       "        vertical-align: middle;\n",
       "    }\n",
       "\n",
       "    .dataframe tbody tr th {\n",
       "        vertical-align: top;\n",
       "    }\n",
       "\n",
       "    .dataframe thead th {\n",
       "        text-align: right;\n",
       "    }\n",
       "</style>\n",
       "<table border=\"1\" class=\"dataframe\">\n",
       "  <thead>\n",
       "    <tr style=\"text-align: right;\">\n",
       "      <th></th>\n",
       "      <th>x</th>\n",
       "      <th>y</th>\n",
       "    </tr>\n",
       "  </thead>\n",
       "  <tbody>\n",
       "    <tr>\n",
       "      <th>0</th>\n",
       "      <td>0.225416</td>\n",
       "      <td>False</td>\n",
       "    </tr>\n",
       "    <tr>\n",
       "      <th>1</th>\n",
       "      <td>-0.227001</td>\n",
       "      <td>False</td>\n",
       "    </tr>\n",
       "    <tr>\n",
       "      <th>2</th>\n",
       "      <td>1.225429</td>\n",
       "      <td>False</td>\n",
       "    </tr>\n",
       "    <tr>\n",
       "      <th>3</th>\n",
       "      <td>0.338792</td>\n",
       "      <td>False</td>\n",
       "    </tr>\n",
       "    <tr>\n",
       "      <th>4</th>\n",
       "      <td>-0.084162</td>\n",
       "      <td>False</td>\n",
       "    </tr>\n",
       "  </tbody>\n",
       "</table>\n",
       "</div>"
      ],
      "text/plain": [
       "          x      y\n",
       "0  0.225416  False\n",
       "1 -0.227001  False\n",
       "2  1.225429  False\n",
       "3  0.338792  False\n",
       "4 -0.084162  False"
      ]
     },
     "execution_count": 81,
     "metadata": {},
     "output_type": "execute_result"
    }
   ],
   "source": [
    "N       = 40000;\n",
    "z       = np.random.normal(0, 1, N)\n",
    "dataset = pd.DataFrame({'x': z, 'y': norm.ppf(0.99)<(1-.5**2)**.5*np.random.normal(0, 1, N)+.5*z})\n",
    "dataset.head()"
   ]
  },
  {
   "cell_type": "markdown",
   "metadata": {},
   "source": [
    "## Create sample for the independent (X) and dependent variable (y)\n",
    "Considering the small amount of observations for which the event Y=1 is true, a training dataset is created by retaining all observations with events for which Y=1 and all observations for which the index (row number) is an odd number. Hence, an example of oversampling observations for which the target variable's class equals to 1."
   ]
  },
  {
   "cell_type": "code",
   "execution_count": 82,
   "metadata": {},
   "outputs": [],
   "source": [
    "X = dataset.x[(dataset.y==1) | (dataset.index % 2 ==0)]\n",
    "y = dataset.y[(dataset.y==1) | (dataset.index % 2 ==0)]"
   ]
  },
  {
   "cell_type": "markdown",
   "metadata": {},
   "source": [
    "## Define and compile the NN model"
   ]
  },
  {
   "cell_type": "code",
   "execution_count": 83,
   "metadata": {},
   "outputs": [],
   "source": [
    "model = Sequential()\n",
    "model.add(Dense(22, input_dim  = 1, activation='relu'))\n",
    "model.add(Dense(22, activation ='relu'))\n",
    "model.add(Dense(1, activation ='sigmoid'))\n",
    "model.compile(loss = 'binary_crossentropy', optimizer = 'adam', metrics = ['accuracy'])"
   ]
  },
  {
   "cell_type": "markdown",
   "metadata": {},
   "source": [
    "## Fit the NN model to the dataset"
   ]
  },
  {
   "cell_type": "code",
   "execution_count": 85,
   "metadata": {},
   "outputs": [
    {
     "data": {
      "text/plain": [
       "<tensorflow.python.keras.callbacks.History at 0x1a450641d0>"
      ]
     },
     "execution_count": 85,
     "metadata": {},
     "output_type": "execute_result"
    }
   ],
   "source": [
    "model.fit(X, y, epochs = 20, verbose=0, batch_size = 20)"
   ]
  },
  {
   "cell_type": "markdown",
   "metadata": {},
   "source": [
    "## Backtest the keras model"
   ]
  },
  {
   "cell_type": "code",
   "execution_count": 86,
   "metadata": {},
   "outputs": [
    {
     "name": "stdout",
     "output_type": "stream",
     "text": [
      "Accuracy model for training data set: 97.98\n",
      "Expected value target for training data set: 2.51\n",
      "Expected value model for training data set: 2.02\n",
      "Expected value target full data set: 1.02\n"
     ]
    }
   ],
   "source": [
    "_, accuracy = model.evaluate(X, y)\n",
    "print('Accuracy model for training data set: %.2f' % (accuracy*100))\n",
    "print('Expected value target for training data set: %.2f' % (model.predict_proba(X).mean()*100))\n",
    "print('Expected value model for training data set: %.2f' % (y.mean()*100))\n",
    "print('Expected value target full data set: %.2f' % (dataset.y.mean()*100))"
   ]
  },
  {
   "cell_type": "markdown",
   "metadata": {},
   "source": [
    "The above statistics demonstrates that the NN model calibrates probabilities in such a way that the expected value of the probabilities equals the expected value of y in the training data set. In case the expected value of the probabilities are not comparable with the expected value of the target in the training dataset, it is considered a bad fit. Since class 1 has been oversampled, it is preferred to modify the fit in such a way that the expected value of the probabilities equals that of the full dataset.\n",
    "## Fitting the NN model with redefined weights of the class values\n",
    "Lets refit the NN model but this time allocate a weight of 1 to class 0  and a weight of E[y]/E[y|x] (i.e. divide the expected value of the training dataset with that of the total population) to class 1 of the y variable. "
   ]
  },
  {
   "cell_type": "code",
   "execution_count": 88,
   "metadata": {},
   "outputs": [
    {
     "name": "stdout",
     "output_type": "stream",
     "text": [
      "Expected value model, with class weights, for training data set: 1.09\n",
      "Accuracy model, with class weights, for entire data set: 98.98\n"
     ]
    }
   ],
   "source": [
    "model.fit(X, y, epochs = 20, verbose=0, batch_size = 20, class_weight={0:1, 1:dataset.y.mean()/y.mean()})\n",
    "_, accuracy = model.evaluate(dataset.x, dataset.y)\n",
    "print('Expected value model, with class weights, for training data set: %.2f' % (model.predict_proba(X).mean()*100))\n",
    "print('Accuracy model, with class weights, for entire data set: %.2f' % (accuracy*100))"
   ]
  },
  {
   "cell_type": "markdown",
   "metadata": {},
   "source": [
    "## Conclusion\n",
    "The probabilities calculated by a NN can easily be modified so that the probability of a given event/class match that of all observation and not the observations chosen for a training dataset."
   ]
  }
 ],
 "metadata": {
  "kernelspec": {
   "display_name": "Python 3",
   "language": "python",
   "name": "python3"
  },
  "language_info": {
   "codemirror_mode": {
    "name": "ipython",
    "version": 3
   },
   "file_extension": ".py",
   "mimetype": "text/x-python",
   "name": "python",
   "nbconvert_exporter": "python",
   "pygments_lexer": "ipython3",
   "version": "3.7.6"
  }
 },
 "nbformat": 4,
 "nbformat_minor": 4
}
